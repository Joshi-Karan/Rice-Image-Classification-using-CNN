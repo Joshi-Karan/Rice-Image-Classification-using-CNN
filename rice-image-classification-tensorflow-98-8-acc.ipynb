{
 "cells": [
  {
   "cell_type": "markdown",
   "id": "49225d7c",
   "metadata": {
    "execution": {
     "iopub.execute_input": "2023-06-15T13:50:19.760089Z",
     "iopub.status.busy": "2023-06-15T13:50:19.759723Z",
     "iopub.status.idle": "2023-06-15T13:50:43.275143Z",
     "shell.execute_reply": "2023-06-15T13:50:43.273957Z",
     "shell.execute_reply.started": "2023-06-15T13:50:19.760062Z"
    },
    "papermill": {
     "duration": 0.005539,
     "end_time": "2023-06-15T15:51:33.311851",
     "exception": false,
     "start_time": "2023-06-15T15:51:33.306312",
     "status": "completed"
    },
    "tags": []
   },
   "source": [
    "## Installing Necessary Libraries"
   ]
  },
  {
   "cell_type": "code",
   "execution_count": 1,
   "id": "55e6a605",
   "metadata": {
    "execution": {
     "iopub.execute_input": "2023-06-15T15:51:33.324643Z",
     "iopub.status.busy": "2023-06-15T15:51:33.324149Z",
     "iopub.status.idle": "2023-06-15T15:52:01.893047Z",
     "shell.execute_reply": "2023-06-15T15:52:01.891685Z"
    },
    "papermill": {
     "duration": 28.579523,
     "end_time": "2023-06-15T15:52:01.896808",
     "exception": false,
     "start_time": "2023-06-15T15:51:33.317285",
     "status": "completed"
    },
    "tags": []
   },
   "outputs": [
    {
     "name": "stdout",
     "output_type": "stream",
     "text": [
      "Collecting split-folders\r\n",
      "  Downloading split_folders-0.5.1-py3-none-any.whl (8.4 kB)\r\n",
      "Installing collected packages: split-folders\r\n",
      "Successfully installed split-folders-0.5.1\r\n",
      "\u001b[33mWARNING: Running pip as the 'root' user can result in broken permissions and conflicting behaviour with the system package manager. It is recommended to use a virtual environment instead: https://pip.pypa.io/warnings/venv\u001b[0m\u001b[33m\r\n",
      "\u001b[0mCollecting pathlib\r\n",
      "  Downloading pathlib-1.0.1-py3-none-any.whl (14 kB)\r\n",
      "Installing collected packages: pathlib\r\n",
      "Successfully installed pathlib-1.0.1\r\n",
      "\u001b[33mWARNING: Running pip as the 'root' user can result in broken permissions and conflicting behaviour with the system package manager. It is recommended to use a virtual environment instead: https://pip.pypa.io/warnings/venv\u001b[0m\u001b[33m\r\n",
      "\u001b[0m"
     ]
    }
   ],
   "source": [
    "!pip install split-folders\n",
    "!pip install pathlib"
   ]
  },
  {
   "cell_type": "markdown",
   "id": "c7b87833",
   "metadata": {
    "papermill": {
     "duration": 0.005525,
     "end_time": "2023-06-15T15:52:01.908134",
     "exception": false,
     "start_time": "2023-06-15T15:52:01.902609",
     "status": "completed"
    },
    "tags": []
   },
   "source": [
    "## Importing Necessary Libraries"
   ]
  },
  {
   "cell_type": "code",
   "execution_count": 2,
   "id": "f3881378",
   "metadata": {
    "execution": {
     "iopub.execute_input": "2023-06-15T15:52:01.921623Z",
     "iopub.status.busy": "2023-06-15T15:52:01.921210Z",
     "iopub.status.idle": "2023-06-15T15:52:11.463319Z",
     "shell.execute_reply": "2023-06-15T15:52:11.462214Z"
    },
    "papermill": {
     "duration": 9.552077,
     "end_time": "2023-06-15T15:52:11.465922",
     "exception": false,
     "start_time": "2023-06-15T15:52:01.913845",
     "status": "completed"
    },
    "tags": []
   },
   "outputs": [
    {
     "name": "stderr",
     "output_type": "stream",
     "text": [
      "/opt/conda/lib/python3.10/site-packages/tensorflow_io/python/ops/__init__.py:98: UserWarning: unable to load libtensorflow_io_plugins.so: unable to open file: libtensorflow_io_plugins.so, from paths: ['/opt/conda/lib/python3.10/site-packages/tensorflow_io/python/ops/libtensorflow_io_plugins.so']\n",
      "caused by: ['/opt/conda/lib/python3.10/site-packages/tensorflow_io/python/ops/libtensorflow_io_plugins.so: undefined symbol: _ZN3tsl6StatusC1EN10tensorflow5error4CodeESt17basic_string_viewIcSt11char_traitsIcEENS_14SourceLocationE']\n",
      "  warnings.warn(f\"unable to load libtensorflow_io_plugins.so: {e}\")\n",
      "/opt/conda/lib/python3.10/site-packages/tensorflow_io/python/ops/__init__.py:104: UserWarning: file system plugins are not loaded: unable to open file: libtensorflow_io.so, from paths: ['/opt/conda/lib/python3.10/site-packages/tensorflow_io/python/ops/libtensorflow_io.so']\n",
      "caused by: ['/opt/conda/lib/python3.10/site-packages/tensorflow_io/python/ops/libtensorflow_io.so: undefined symbol: _ZTVN10tensorflow13GcsFileSystemE']\n",
      "  warnings.warn(f\"file system plugins are not loaded: {e}\")\n"
     ]
    }
   ],
   "source": [
    "import tensorflow as tf\n",
    "tf.random.set_seed(42)\n",
    "import keras\n",
    "import matplotlib.pyplot as plt\n",
    "import os\n",
    "import pathlib\n",
    "import splitfolders\n",
    "import warnings\n",
    "warnings.filterwarnings('ignore')"
   ]
  },
  {
   "cell_type": "markdown",
   "id": "585b8b78",
   "metadata": {
    "papermill": {
     "duration": 0.005415,
     "end_time": "2023-06-15T15:52:11.477690",
     "exception": false,
     "start_time": "2023-06-15T15:52:11.472275",
     "status": "completed"
    },
    "tags": []
   },
   "source": [
    "## Splitting the data in Train-Test-Validation set"
   ]
  },
  {
   "cell_type": "code",
   "execution_count": 3,
   "id": "d502b5c4",
   "metadata": {
    "execution": {
     "iopub.execute_input": "2023-06-15T15:52:11.491729Z",
     "iopub.status.busy": "2023-06-15T15:52:11.490272Z",
     "iopub.status.idle": "2023-06-15T15:52:11.496557Z",
     "shell.execute_reply": "2023-06-15T15:52:11.495412Z"
    },
    "papermill": {
     "duration": 0.015718,
     "end_time": "2023-06-15T15:52:11.499049",
     "exception": false,
     "start_time": "2023-06-15T15:52:11.483331",
     "status": "completed"
    },
    "tags": []
   },
   "outputs": [],
   "source": [
    "root_path = '../input/rice-image-dataset/Rice_Image_Dataset'\n",
    "root_path = pathlib.Path (root_path)"
   ]
  },
  {
   "cell_type": "code",
   "execution_count": 4,
   "id": "59e7884a",
   "metadata": {
    "execution": {
     "iopub.execute_input": "2023-06-15T15:52:11.512115Z",
     "iopub.status.busy": "2023-06-15T15:52:11.511709Z",
     "iopub.status.idle": "2023-06-15T16:05:29.387251Z",
     "shell.execute_reply": "2023-06-15T16:05:29.386080Z"
    },
    "papermill": {
     "duration": 797.885597,
     "end_time": "2023-06-15T16:05:29.390413",
     "exception": false,
     "start_time": "2023-06-15T15:52:11.504816",
     "status": "completed"
    },
    "tags": []
   },
   "outputs": [
    {
     "name": "stderr",
     "output_type": "stream",
     "text": [
      "Copying files: 75000 files [13:17, 94.00 files/s] \n"
     ]
    }
   ],
   "source": [
    "splitfolders.ratio(root_path, output='Images', seed=123, ratio=(.7,.15,.15), group_prefix=None)"
   ]
  },
  {
   "cell_type": "code",
   "execution_count": 5,
   "id": "185f284a",
   "metadata": {
    "execution": {
     "iopub.execute_input": "2023-06-15T16:05:30.426076Z",
     "iopub.status.busy": "2023-06-15T16:05:30.425586Z",
     "iopub.status.idle": "2023-06-15T16:05:33.012889Z",
     "shell.execute_reply": "2023-06-15T16:05:33.011858Z"
    },
    "papermill": {
     "duration": 3.116245,
     "end_time": "2023-06-15T16:05:33.015600",
     "exception": false,
     "start_time": "2023-06-15T16:05:29.899355",
     "status": "completed"
    },
    "tags": []
   },
   "outputs": [
    {
     "name": "stdout",
     "output_type": "stream",
     "text": [
      "Found 52500 images belonging to 5 classes.\n",
      "Found 11250 images belonging to 5 classes.\n",
      "Found 11250 images belonging to 5 classes.\n"
     ]
    }
   ],
   "source": [
    "data_generator = tf.keras.preprocessing.image.ImageDataGenerator(rescale=1./255) \n",
    "\n",
    "train_generator = data_generator.flow_from_directory(\n",
    "    directory = '/kaggle/working/Images/train',\n",
    "    class_mode = 'categorical',\n",
    "    seed = 42,\n",
    "    target_size = (224, 224),\n",
    ")\n",
    "valid_generator = data_generator.flow_from_directory(\n",
    "    directory = '/kaggle/working/Images/val',\n",
    "    class_mode = 'categorical',\n",
    "    seed = 42,\n",
    "    target_size = (224, 224),\n",
    ")\n",
    "test_generator = data_generator.flow_from_directory(\n",
    "    directory = '/kaggle/working/Images/test',\n",
    "    class_mode = 'categorical',\n",
    "    seed = 42,\n",
    "    target_size = (224, 224),\n",
    ")"
   ]
  },
  {
   "cell_type": "markdown",
   "id": "43c9544d",
   "metadata": {
    "papermill": {
     "duration": 0.434604,
     "end_time": "2023-06-15T16:05:33.892713",
     "exception": false,
     "start_time": "2023-06-15T16:05:33.458109",
     "status": "completed"
    },
    "tags": []
   },
   "source": [
    "## Creating a custom CNN model"
   ]
  },
  {
   "cell_type": "code",
   "execution_count": 6,
   "id": "e5dda280",
   "metadata": {
    "execution": {
     "iopub.execute_input": "2023-06-15T16:05:34.768574Z",
     "iopub.status.busy": "2023-06-15T16:05:34.768184Z",
     "iopub.status.idle": "2023-06-15T16:05:38.368035Z",
     "shell.execute_reply": "2023-06-15T16:05:38.367186Z"
    },
    "papermill": {
     "duration": 4.062005,
     "end_time": "2023-06-15T16:05:38.391904",
     "exception": false,
     "start_time": "2023-06-15T16:05:34.329899",
     "status": "completed"
    },
    "tags": []
   },
   "outputs": [
    {
     "name": "stdout",
     "output_type": "stream",
     "text": [
      "Model: \"sequential\"\n",
      "_________________________________________________________________\n",
      " Layer (type)                Output Shape              Param #   \n",
      "=================================================================\n",
      " zero_padding2d (ZeroPadding  (None, 226, 226, 3)      0         \n",
      " 2D)                                                             \n",
      "                                                                 \n",
      " conv2d (Conv2D)             (None, 224, 224, 32)      896       \n",
      "                                                                 \n",
      " batch_normalization (BatchN  (None, 224, 224, 32)     128       \n",
      " ormalization)                                                   \n",
      "                                                                 \n",
      " max_pooling2d (MaxPooling2D  (None, 112, 112, 32)     0         \n",
      " )                                                               \n",
      "                                                                 \n",
      " zero_padding2d_1 (ZeroPaddi  (None, 114, 114, 32)     0         \n",
      " ng2D)                                                           \n",
      "                                                                 \n",
      " conv2d_1 (Conv2D)           (None, 112, 112, 64)      18496     \n",
      "                                                                 \n",
      " batch_normalization_1 (Batc  (None, 112, 112, 64)     256       \n",
      " hNormalization)                                                 \n",
      "                                                                 \n",
      " max_pooling2d_1 (MaxPooling  (None, 56, 56, 64)       0         \n",
      " 2D)                                                             \n",
      "                                                                 \n",
      " flatten (Flatten)           (None, 200704)            0         \n",
      "                                                                 \n",
      " dense (Dense)               (None, 128)               25690240  \n",
      "                                                                 \n",
      " dropout (Dropout)           (None, 128)               0         \n",
      "                                                                 \n",
      " dense_1 (Dense)             (None, 64)                8256      \n",
      "                                                                 \n",
      " dropout_1 (Dropout)         (None, 64)                0         \n",
      "                                                                 \n",
      " dense_2 (Dense)             (None, 32)                2080      \n",
      "                                                                 \n",
      " dropout_2 (Dropout)         (None, 32)                0         \n",
      "                                                                 \n",
      " dense_3 (Dense)             (None, 5)                 165       \n",
      "                                                                 \n",
      "=================================================================\n",
      "Total params: 25,720,517\n",
      "Trainable params: 25,720,325\n",
      "Non-trainable params: 192\n",
      "_________________________________________________________________\n"
     ]
    }
   ],
   "source": [
    "model = tf.keras.Sequential([\n",
    "    keras.layers.InputLayer(input_shape=(224,224,3)),\n",
    "    keras.layers.ZeroPadding2D(padding=(1,1)),\n",
    "    \n",
    "    keras.layers.Conv2D(filters=32, activation='relu', kernel_initializer = 'he_normal', kernel_size=(3,3)),\n",
    "    keras.layers.BatchNormalization(),\n",
    "    keras.layers.MaxPooling2D(pool_size=(2,2)),\n",
    "    keras.layers.ZeroPadding2D(padding=(1,1)),\n",
    "    \n",
    "    keras.layers.Conv2D(filters=64, activation='relu', kernel_initializer = 'he_normal', kernel_size=(3,3)),\n",
    "    keras.layers.BatchNormalization(),\n",
    "    keras.layers.MaxPooling2D(pool_size=(2,2)),\n",
    "    \n",
    "    keras.layers.Flatten(),\n",
    "    \n",
    "    keras.layers.Dense(128, activation='relu', kernel_initializer='he_normal'),\n",
    "    keras.layers.Dropout(0.2),\n",
    "    \n",
    "    keras.layers.Dense(64, activation='relu', kernel_initializer='he_normal'),\n",
    "    keras.layers.Dropout(0.2),\n",
    "    \n",
    "    keras.layers.Dense(32, activation='relu', kernel_initializer='he_normal'),\n",
    "    keras.layers.Dropout(0.2),\n",
    "\n",
    "    keras.layers.Dense(5, activation='softmax')\n",
    "])\n",
    "\n",
    "model.summary()"
   ]
  },
  {
   "cell_type": "code",
   "execution_count": 7,
   "id": "f2f061c6",
   "metadata": {
    "execution": {
     "iopub.execute_input": "2023-06-15T16:05:39.349773Z",
     "iopub.status.busy": "2023-06-15T16:05:39.349376Z",
     "iopub.status.idle": "2023-06-15T16:05:39.356477Z",
     "shell.execute_reply": "2023-06-15T16:05:39.355337Z"
    },
    "papermill": {
     "duration": 0.459639,
     "end_time": "2023-06-15T16:05:39.358765",
     "exception": false,
     "start_time": "2023-06-15T16:05:38.899126",
     "status": "completed"
    },
    "tags": []
   },
   "outputs": [],
   "source": [
    "cb_earlystopper = tf.keras.callbacks.EarlyStopping(monitor='val_loss', patience=5, verbose=1)\n",
    "cb_checkpointer = tf.keras.callbacks.ModelCheckpoint(filepath='../working/mymodel.hdf5', monitor='val_loss', save_best_only=True, mode='auto', verbose=1)\n",
    "cb_reducelor = tf.keras.callbacks.ReduceLROnPlateau(monitor='val_loss', patience=2, verbose=1, mode='auto')\n",
    "\n",
    "CALLBACKS = [cb_earlystopper, cb_checkpointer, cb_reducelor]"
   ]
  },
  {
   "cell_type": "code",
   "execution_count": 8,
   "id": "b1bf0e5d",
   "metadata": {
    "execution": {
     "iopub.execute_input": "2023-06-15T16:05:40.240028Z",
     "iopub.status.busy": "2023-06-15T16:05:40.239591Z",
     "iopub.status.idle": "2023-06-15T16:24:21.152972Z",
     "shell.execute_reply": "2023-06-15T16:24:21.151837Z"
    },
    "papermill": {
     "duration": 1123.144719,
     "end_time": "2023-06-15T16:24:22.941269",
     "exception": false,
     "start_time": "2023-06-15T16:05:39.796550",
     "status": "completed"
    },
    "tags": []
   },
   "outputs": [
    {
     "name": "stdout",
     "output_type": "stream",
     "text": [
      "Epoch 1/20\n",
      "1641/1641 [==============================] - ETA: 0s - loss: 1.2749 - accuracy: 0.8621\n",
      "Epoch 1: val_loss improved from inf to 0.12712, saving model to ../working/mymodel.hdf5\n",
      "1641/1641 [==============================] - 130s 73ms/step - loss: 1.2749 - accuracy: 0.8621 - val_loss: 0.1271 - val_accuracy: 0.9612 - lr: 0.0010\n",
      "Epoch 2/20\n",
      "1641/1641 [==============================] - ETA: 0s - loss: 0.2286 - accuracy: 0.9490\n",
      "Epoch 2: val_loss did not improve from 0.12712\n",
      "1641/1641 [==============================] - 119s 72ms/step - loss: 0.2286 - accuracy: 0.9490 - val_loss: 0.7576 - val_accuracy: 0.8704 - lr: 0.0010\n",
      "Epoch 3/20\n",
      "1641/1641 [==============================] - ETA: 0s - loss: 0.2134 - accuracy: 0.9549\n",
      "Epoch 3: val_loss did not improve from 0.12712\n",
      "\n",
      "Epoch 3: ReduceLROnPlateau reducing learning rate to 0.00010000000474974513.\n",
      "1641/1641 [==============================] - 128s 78ms/step - loss: 0.2134 - accuracy: 0.9549 - val_loss: 1.7585 - val_accuracy: 0.7929 - lr: 0.0010\n",
      "Epoch 4/20\n",
      "1640/1641 [============================>.] - ETA: 0s - loss: 0.1475 - accuracy: 0.9659\n",
      "Epoch 4: val_loss improved from 0.12712 to 0.05855, saving model to ../working/mymodel.hdf5\n",
      "1641/1641 [==============================] - 121s 74ms/step - loss: 0.1475 - accuracy: 0.9659 - val_loss: 0.0586 - val_accuracy: 0.9909 - lr: 1.0000e-04\n",
      "Epoch 5/20\n",
      "1641/1641 [==============================] - ETA: 0s - loss: 0.1425 - accuracy: 0.9699\n",
      "Epoch 5: val_loss did not improve from 0.05855\n",
      "1641/1641 [==============================] - 117s 71ms/step - loss: 0.1425 - accuracy: 0.9699 - val_loss: 0.0678 - val_accuracy: 0.9899 - lr: 1.0000e-04\n",
      "Epoch 6/20\n",
      "1641/1641 [==============================] - ETA: 0s - loss: 0.1316 - accuracy: 0.9702\n",
      "Epoch 6: val_loss did not improve from 0.05855\n",
      "\n",
      "Epoch 6: ReduceLROnPlateau reducing learning rate to 1.0000000474974514e-05.\n",
      "1641/1641 [==============================] - 126s 77ms/step - loss: 0.1316 - accuracy: 0.9702 - val_loss: 0.1175 - val_accuracy: 0.9840 - lr: 1.0000e-04\n",
      "Epoch 7/20\n",
      "1641/1641 [==============================] - ETA: 0s - loss: 0.1417 - accuracy: 0.9714\n",
      "Epoch 7: val_loss did not improve from 0.05855\n",
      "1641/1641 [==============================] - 127s 77ms/step - loss: 0.1417 - accuracy: 0.9714 - val_loss: 0.0663 - val_accuracy: 0.9918 - lr: 1.0000e-05\n",
      "Epoch 8/20\n",
      "1641/1641 [==============================] - ETA: 0s - loss: 0.1270 - accuracy: 0.9724\n",
      "Epoch 8: val_loss did not improve from 0.05855\n",
      "\n",
      "Epoch 8: ReduceLROnPlateau reducing learning rate to 1.0000000656873453e-06.\n",
      "1641/1641 [==============================] - 131s 80ms/step - loss: 0.1270 - accuracy: 0.9724 - val_loss: 0.0638 - val_accuracy: 0.9921 - lr: 1.0000e-05\n",
      "Epoch 9/20\n",
      "1641/1641 [==============================] - ETA: 0s - loss: 0.1330 - accuracy: 0.9713\n",
      "Epoch 9: val_loss did not improve from 0.05855\n",
      "1641/1641 [==============================] - 121s 74ms/step - loss: 0.1330 - accuracy: 0.9713 - val_loss: 0.0643 - val_accuracy: 0.9920 - lr: 1.0000e-06\n",
      "Epoch 9: early stopping\n"
     ]
    }
   ],
   "source": [
    "model.compile(optimizer='rmsprop', loss='categorical_crossentropy', metrics='accuracy')\n",
    "history = model.fit(\n",
    "    train_generator,\n",
    "    epochs=20,\n",
    "    validation_data=valid_generator,\n",
    "    callbacks=CALLBACKS\n",
    ")"
   ]
  },
  {
   "cell_type": "code",
   "execution_count": 9,
   "id": "ddc83666",
   "metadata": {
    "execution": {
     "iopub.execute_input": "2023-06-15T16:24:26.489862Z",
     "iopub.status.busy": "2023-06-15T16:24:26.489463Z",
     "iopub.status.idle": "2023-06-15T16:24:42.782646Z",
     "shell.execute_reply": "2023-06-15T16:24:42.781705Z"
    },
    "papermill": {
     "duration": 18.079642,
     "end_time": "2023-06-15T16:24:42.784981",
     "exception": false,
     "start_time": "2023-06-15T16:24:24.705339",
     "status": "completed"
    },
    "tags": []
   },
   "outputs": [
    {
     "data": {
      "image/png": "[encoded data removed]",
      "text/plain": [
       "<Figure size 1500x800 with 2 Axes>"
      ]
     },
     "metadata": {},
     "output_type": "display_data"
    }
   ],
   "source": [
    "plt.figure(1, figsize = (15,8)) \n",
    "    \n",
    "plt.subplot(221)  \n",
    "plt.plot(history.history['accuracy'])  \n",
    "plt.plot(history.history['val_accuracy'])  \n",
    "plt.title('model accuracy')  \n",
    "plt.ylabel('accuracy')  \n",
    "plt.xlabel('epoch')  \n",
    "plt.legend(['train', 'valid']) \n",
    "    \n",
    "plt.subplot(222)  \n",
    "plt.plot(history.history['loss'])  \n",
    "plt.plot(history.history['val_loss'])  \n",
    "plt.title('model loss')  \n",
    "plt.ylabel('loss')  \n",
    "plt.xlabel('epoch')  \n",
    "plt.legend(['train', 'valid']) \n",
    "\n",
    "plt.show()"
   ]
  },
  {
   "cell_type": "code",
   "execution_count": 10,
   "id": "b1e6fdff",
   "metadata": {
    "execution": {
     "iopub.execute_input": "2023-06-15T16:24:46.289238Z",
     "iopub.status.busy": "2023-06-15T16:24:46.288852Z",
     "iopub.status.idle": "2023-06-15T16:25:08.191052Z",
     "shell.execute_reply": "2023-06-15T16:25:08.189983Z"
    },
    "papermill": {
     "duration": 23.686366,
     "end_time": "2023-06-15T16:25:08.193494",
     "exception": false,
     "start_time": "2023-06-15T16:24:44.507128",
     "status": "completed"
    },
    "tags": []
   },
   "outputs": [
    {
     "name": "stdout",
     "output_type": "stream",
     "text": [
      "352/352 [==============================] - 18s 51ms/step - loss: 0.0611 - accuracy: 0.9890\n"
     ]
    },
    {
     "data": {
      "text/plain": [
       "[0.06105906516313553, 0.9889777898788452]"
      ]
     },
     "execution_count": 10,
     "metadata": {},
     "output_type": "execute_result"
    }
   ],
   "source": [
    "mymodel = tf.keras.models.load_model('../working/mymodel.hdf5')\n",
    "\n",
    "mymodel.evaluate(test_generator, verbose = 1)\n"
   ]
  },
  {
   "cell_type": "code",
   "execution_count": null,
   "id": "1207abf7",
   "metadata": {
    "papermill": {
     "duration": 1.679003,
     "end_time": "2023-06-15T16:25:12.081499",
     "exception": false,
     "start_time": "2023-06-15T16:25:10.402496",
     "status": "completed"
    },
    "tags": []
   },
   "outputs": [],
   "source": []
  }
 ],
 "metadata": {
  "kernelspec": {
   "display_name": "Python 3",
   "language": "python",
   "name": "python3"
  },
  "language_info": {
   "codemirror_mode": {
    "name": "ipython",
    "version": 3
   },
   "file_extension": ".py",
   "mimetype": "text/x-python",
   "name": "python",
   "nbconvert_exporter": "python",
   "pygments_lexer": "ipython3",
   "version": "3.10.10"
  },
  "papermill": {
   "default_parameters": {},
   "duration": 2038.133827,
   "end_time": "2023-06-15T16:25:17.610033",
   "environment_variables": {},
   "exception": null,
   "input_path": "__notebook__.ipynb",
   "output_path": "__notebook__.ipynb",
   "parameters": {},
   "start_time": "2023-06-15T15:51:19.476206",
   "version": "2.4.0"
  }
 },
 "nbformat": 4,
 "nbformat_minor": 5
}
